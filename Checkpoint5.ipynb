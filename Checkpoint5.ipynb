{
 "cells": [
  {
   "cell_type": "code",
   "execution_count": 71,
   "id": "2d8a6f82",
   "metadata": {},
   "outputs": [
    {
     "name": "stdout",
     "output_type": "stream",
     "text": [
      "[1, 2, 3]\n",
      "<class 'list'>\n"
     ]
    }
   ],
   "source": [
    "import numpy as np\n",
    "new_array=np.array([1,2,3])\n",
    "f=new_array.tolist()\n",
    "print (f)\n"
   ]
  },
  {
   "cell_type": "code",
   "execution_count": 74,
   "id": "b8a7f9e6",
   "metadata": {},
   "outputs": [
    {
     "name": "stdout",
     "output_type": "stream",
     "text": [
      "[[ 8 11  9  8]\n",
      " [12  5  9 11]\n",
      " [13 14  8  5]\n",
      " [10 11  6  5]]\n"
     ]
    },
    {
     "data": {
      "text/plain": [
       "26"
      ]
     },
     "execution_count": 74,
     "metadata": {},
     "output_type": "execute_result"
    }
   ],
   "source": [
    "array=np.random.randint(5,15,size=(4,4))\n",
    "print(array)\n",
    "np.trace(array)"
   ]
  },
  {
   "cell_type": "code",
   "execution_count": 77,
   "id": "e3e2141c",
   "metadata": {},
   "outputs": [
    {
     "name": "stdout",
     "output_type": "stream",
     "text": [
      "[[9 4 6 7]\n",
      " [8 9 8 6]]\n",
      "-\n",
      "-\n",
      "-\n",
      "[9 9]\n"
     ]
    }
   ],
   "source": [
    "arr=np.random.randint(4,10,size=(2,4))\n",
    "\n",
    "print(arr)\n",
    "print (\"-\")\n",
    "print (\"-\")\n",
    "print (\"-\")\n",
    "print(arr[8<arr])"
   ]
  },
  {
   "cell_type": "code",
   "execution_count": 80,
   "id": "41825b9b",
   "metadata": {},
   "outputs": [
    {
     "ename": "SyntaxError",
     "evalue": "invalid syntax (<ipython-input-80-9aa1157c6af6>, line 4)",
     "output_type": "error",
     "traceback": [
      "\u001b[1;36m  File \u001b[1;32m\"<ipython-input-80-9aa1157c6af6>\"\u001b[1;36m, line \u001b[1;32m4\u001b[0m\n\u001b[1;33m    for i in\u001b[0m\n\u001b[1;37m            ^\u001b[0m\n\u001b[1;31mSyntaxError\u001b[0m\u001b[1;31m:\u001b[0m invalid syntax\n"
     ]
    }
   ],
   "source": [
    "A=np.array([[2,2],[3,4]])\n",
    "B=np.array([[2,2]],[[2,2]])\n",
    "t=A.shape\n",
    "t1=B.shape\n",
    "for i in range(t[0]):\n",
    "for j in range(t[1]):\n",
    "    \n",
    "    \n",
    "    "
   ]
  },
  {
   "cell_type": "code",
   "execution_count": 9,
   "id": "7a613f19",
   "metadata": {},
   "outputs": [
    {
     "name": "stdout",
     "output_type": "stream",
     "text": [
      "[15  9 14 17]\n",
      "[[15 15  6  8]\n",
      " [ 9  8 18 18]\n",
      " [14 14 13 17]\n",
      " [17 13  8 16]]\n",
      "0\n"
     ]
    }
   ],
   "source": [
    "import statistics as st\n",
    "import numpy as np\n",
    "arr1=np.random.randint(4,19,size=(4,4))\n",
    "print(arr1[:,0])\n",
    "Mean=st.mean(arr1[:,-1])\n",
    "t=arr1.shape\n",
    "for i in range(t[0]):\n",
    "    Mean=st.mean(arr1[:,-1])\n",
    "    s=Mean-Mean\n",
    "print(arr1)    \n",
    "print(s)\n",
    "    \n",
    "    \n",
    "    "
   ]
  },
  {
   "cell_type": "code",
   "execution_count": 79,
   "id": "77ebb506",
   "metadata": {},
   "outputs": [
    {
     "data": {
      "text/plain": [
       "(4, 4)"
      ]
     },
     "execution_count": 79,
     "metadata": {},
     "output_type": "execute_result"
    }
   ],
   "source": []
  },
  {
   "cell_type": "code",
   "execution_count": null,
   "id": "37fcd945",
   "metadata": {},
   "outputs": [],
   "source": []
  }
 ],
 "metadata": {
  "kernelspec": {
   "display_name": "Python 3",
   "language": "python",
   "name": "python3"
  },
  "language_info": {
   "codemirror_mode": {
    "name": "ipython",
    "version": 3
   },
   "file_extension": ".py",
   "mimetype": "text/x-python",
   "name": "python",
   "nbconvert_exporter": "python",
   "pygments_lexer": "ipython3",
   "version": "3.8.8"
  }
 },
 "nbformat": 4,
 "nbformat_minor": 5
}
