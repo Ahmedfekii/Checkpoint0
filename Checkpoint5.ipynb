{
 "cells": [
  {
   "cell_type": "code",
   "execution_count": 71,
   "id": "2d8a6f82",
   "metadata": {},
   "outputs": [
    {
     "name": "stdout",
     "output_type": "stream",
     "text": [
      "[1, 2, 3]\n",
      "<class 'list'>\n"
     ]
    }
   ],
   "source": [
    "import numpy as np\n",
    "new_array=np.array([1,2,3])\n",
    "f=new_array.tolist()\n",
    "print (f)\n"
   ]
  },
  {
   "cell_type": "code",
   "execution_count": 74,
   "id": "b8a7f9e6",
   "metadata": {},
   "outputs": [
    {
     "name": "stdout",
     "output_type": "stream",
     "text": [
      "[[ 8 11  9  8]\n",
      " [12  5  9 11]\n",
      " [13 14  8  5]\n",
      " [10 11  6  5]]\n"
     ]
    },
    {
     "data": {
      "text/plain": [
       "26"
      ]
     },
     "execution_count": 74,
     "metadata": {},
     "output_type": "execute_result"
    }
   ],
   "source": [
    "array=np.random.randint(5,15,size=(4,4))\n",
    "print(array)\n",
    "np.trace(array)"
   ]
  },
  {
   "cell_type": "code",
   "execution_count": 77,
   "id": "e3e2141c",
   "metadata": {},
   "outputs": [
    {
     "name": "stdout",
     "output_type": "stream",
     "text": [
      "[[9 4 6 7]\n",
      " [8 9 8 6]]\n",
      "-\n",
      "-\n",
      "-\n",
      "[9 9]\n"
     ]
    }
   ],
   "source": [
    "arr=np.random.randint(4,10,size=(2,4))\n",
    "\n",
    "print(arr)\n",
    "print (\"-\")\n",
    "print (\"-\")\n",
    "print (\"-\")\n",
    "print(arr[8<arr])"
   ]
  },
  {
   "cell_type": "code",
   "execution_count": 26,
   "id": "41825b9b",
   "metadata": {},
   "outputs": [
    {
     "name": "stdout",
     "output_type": "stream",
     "text": [
      "[[4. 4.]\n",
      " [5. 6.]]\n"
     ]
    }
   ],
   "source": [
    "import numpy as np\n",
    "A=np.array([[2,2],[3,4]])\n",
    "B=np.array([[2,2],[2,2]])\n",
    "t=A.shape\n",
    "C=np.zeros((int(t[0]),int(t[1])))\n",
    "for i in range(t[0]):\n",
    "    for j in range(t[1]):\n",
    "        C[i,j]=A[i,j]+B[i,j]\n",
    "        \n",
    "print(C)       \n",
    "        \n",
    "    \n",
    "    \n",
    "    "
   ]
  },
  {
   "cell_type": "code",
   "execution_count": 43,
   "id": "7a613f19",
   "metadata": {},
   "outputs": [
    {
     "name": "stdout",
     "output_type": "stream",
     "text": [
      "[[18 13  9 15]\n",
      " [16  7  7  5]\n",
      " [11  4  9 14]\n",
      " [13 10  6  5]]\n",
      "-\n",
      "-\n",
      "-\n",
      "-\n",
      "[[-5  0  4 -2]\n",
      " [-8  1  1  3]\n",
      " [-2  5  0 -5]\n",
      " [-5 -2  2  3]]\n"
     ]
    }
   ],
   "source": [
    "import statistics as st\n",
    "import numpy as np\n",
    "arr1=np.random.randint(4,19,size=(4,4))\n",
    "Mean=st.mean(arr1[:,-1])\n",
    "t=arr1.shape\n",
    "I=np.zeros((int(4),int(4)))\n",
    "list_arr=[]\n",
    "for i in arr1:\n",
    "    Mean=st.mean(i)\n",
    "    I=Mean-i\n",
    "    list_arr.append(I)\n",
    "arr2=np.array(list_arr)\n",
    "print(arr1)\n",
    "print (\"-\")\n",
    "print (\"-\")\n",
    "print (\"-\")\n",
    "print (\"-\")\n",
    "print (arr2)\n",
    "    \n",
    "    \n",
    "    "
   ]
  },
  {
   "cell_type": "code",
   "execution_count": null,
   "id": "77ebb506",
   "metadata": {},
   "outputs": [],
   "source": []
  },
  {
   "cell_type": "code",
   "execution_count": null,
   "id": "37fcd945",
   "metadata": {},
   "outputs": [],
   "source": []
  }
 ],
 "metadata": {
  "kernelspec": {
   "display_name": "Python 3",
   "language": "python",
   "name": "python3"
  },
  "language_info": {
   "codemirror_mode": {
    "name": "ipython",
    "version": 3
   },
   "file_extension": ".py",
   "mimetype": "text/x-python",
   "name": "python",
   "nbconvert_exporter": "python",
   "pygments_lexer": "ipython3",
   "version": "3.8.8"
  }
 },
 "nbformat": 4,
 "nbformat_minor": 5
}
