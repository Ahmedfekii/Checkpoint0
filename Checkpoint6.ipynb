{
 "cells": [
  {
   "cell_type": "code",
   "execution_count": 43,
   "id": "bffdb6dd",
   "metadata": {},
   "outputs": [
    {
     "name": "stdout",
     "output_type": "stream",
     "text": [
      "        name  score\n",
      "a  Anastasia   12.5\n",
      "b       Dima    9.0\n",
      "c  Katherine   16.5\n",
      "e      Emily    9.0\n",
      "f    Michael   20.0\n",
      "g    Matthew   14.5\n",
      "i      Kevin    8.0\n",
      "j      Jonas   19.0\n",
      "k     Suresh   15.5\n",
      "        name  score qualify  Success\n",
      "a  Anastasia   12.5     yes        1\n",
      "b       Dima    9.0      no        0\n",
      "c  Katherine   16.5     yes        1\n",
      "e      Emily    9.0      no        0\n",
      "f    Michael   20.0     yes        1\n",
      "g    Matthew   14.5     yes        1\n",
      "i      Kevin    8.0      no        0\n",
      "j      Jonas   19.0     yes        1\n",
      "k     Suresh   15.5     yes        1\n"
     ]
    }
   ],
   "source": [
    "import numpy as np\n",
    "import pandas as pd\n",
    "exam_data = {'name': ['Anastasia', 'Dima', 'Katherine', 'James', 'Emily', 'Michael', 'Matthew', 'Laura', 'Kevin', 'Jonas'],\n",
    "'score': [12.5, 9, 16.5, np.nan, 9, 20, 14.5, np.nan, 8, 19],\n",
    "'attempts': [1, 3, 2, 3, 2, 3, 1, 1, 2, 1],\n",
    "'qualify': ['yes', 'no', 'yes', 'no', 'no', 'yes', 'yes', 'no', 'no', 'yes']}\n",
    "labels = ['a', 'b', 'c', 'd', 'e', 'f', 'g', 'h', 'i', 'j']\n",
    "exm_dt=pd.DataFrame(exam_data,index=labels)\n",
    "exm_dt = exm_dt.drop(labels=[\"d\",\"h\"], axis=0)\n",
    "\n",
    "exm_dt.loc['k'] = ['Suresh', 15.5,1,'yes']\n",
    "exm_dt=exm_dt.drop(labels=\"attempts\",axis=1)\n",
    "conditions = [\n",
    "    (exm_dt['score'] < 10),\n",
    "    (exm_dt['score'] >= 10) ]\n",
    "values = [0,1]\n",
    "exm_dt['Success'] = np.select(conditions, values)\n",
    "print(exm_dt[['name', 'score']])\n",
    "\n",
    "\n",
    "print(exm_dt)\n",
    "\n",
    "\n",
    "\n",
    "exm_dt.to_csv(\"my_data\")\n"
   ]
  },
  {
   "cell_type": "code",
   "execution_count": 38,
   "id": "d3acb511",
   "metadata": {},
   "outputs": [
    {
     "data": {
      "text/html": [
       "<div>\n",
       "<style scoped>\n",
       "    .dataframe tbody tr th:only-of-type {\n",
       "        vertical-align: middle;\n",
       "    }\n",
       "\n",
       "    .dataframe tbody tr th {\n",
       "        vertical-align: top;\n",
       "    }\n",
       "\n",
       "    .dataframe thead th {\n",
       "        text-align: right;\n",
       "    }\n",
       "</style>\n",
       "<table border=\"1\" class=\"dataframe\">\n",
       "  <thead>\n",
       "    <tr style=\"text-align: right;\">\n",
       "      <th></th>\n",
       "      <th>name</th>\n",
       "      <th>score</th>\n",
       "      <th>qualify</th>\n",
       "      <th>Success</th>\n",
       "    </tr>\n",
       "  </thead>\n",
       "  <tbody>\n",
       "    <tr>\n",
       "      <th>a</th>\n",
       "      <td>Anastasia</td>\n",
       "      <td>12.5</td>\n",
       "      <td>yes</td>\n",
       "      <td>1</td>\n",
       "    </tr>\n",
       "    <tr>\n",
       "      <th>b</th>\n",
       "      <td>Dima</td>\n",
       "      <td>9.0</td>\n",
       "      <td>no</td>\n",
       "      <td>0</td>\n",
       "    </tr>\n",
       "    <tr>\n",
       "      <th>c</th>\n",
       "      <td>Katherine</td>\n",
       "      <td>16.5</td>\n",
       "      <td>yes</td>\n",
       "      <td>1</td>\n",
       "    </tr>\n",
       "  </tbody>\n",
       "</table>\n",
       "</div>"
      ],
      "text/plain": [
       "        name  score qualify  Success\n",
       "a  Anastasia   12.5     yes        1\n",
       "b       Dima    9.0      no        0\n",
       "c  Katherine   16.5     yes        1"
      ]
     },
     "execution_count": 38,
     "metadata": {},
     "output_type": "execute_result"
    }
   ],
   "source": [
    "exm_dt.head(3)"
   ]
  },
  {
   "cell_type": "code",
   "execution_count": 39,
   "id": "1abfa7b9",
   "metadata": {},
   "outputs": [
    {
     "ename": "SyntaxError",
     "evalue": "invalid syntax (<ipython-input-39-7d7665181c51>, line 4)",
     "output_type": "error",
     "traceback": [
      "\u001b[1;36m  File \u001b[1;32m\"<ipython-input-39-7d7665181c51>\"\u001b[1;36m, line \u001b[1;32m4\u001b[0m\n\u001b[1;33m    deja fasakhthom\u001b[0m\n\u001b[1;37m         ^\u001b[0m\n\u001b[1;31mSyntaxError\u001b[0m\u001b[1;31m:\u001b[0m invalid syntax\n"
     ]
    }
   ],
   "source": [
    "exm_dt = exm_dt.drop(labels=[\"d\",\"h\"], axis=0)\n",
    "\n",
    "\n",
    "deja fasakhthom"
   ]
  },
  {
   "cell_type": "code",
   "execution_count": 40,
   "id": "8d862b38",
   "metadata": {},
   "outputs": [
    {
     "name": "stdout",
     "output_type": "stream",
     "text": [
      "        name  score\n",
      "a  Anastasia   12.5\n",
      "b       Dima    9.0\n",
      "c  Katherine   16.5\n",
      "e      Emily    9.0\n",
      "f    Michael   20.0\n",
      "g    Matthew   14.5\n",
      "i      Kevin    8.0\n",
      "j      Jonas   19.0\n",
      "k     Suresh   15.5\n"
     ]
    }
   ],
   "source": [
    "print(exm_dt[['name', 'score']])"
   ]
  },
  {
   "cell_type": "code",
   "execution_count": 41,
   "id": "4493d7c9",
   "metadata": {},
   "outputs": [],
   "source": [
    "exm_dt.loc['k'] = ['Suresh', 15.5,1,'yes']"
   ]
  },
  {
   "cell_type": "code",
   "execution_count": 42,
   "id": "8c318ee9",
   "metadata": {},
   "outputs": [
    {
     "ename": "SyntaxError",
     "evalue": "invalid syntax (<ipython-input-42-966cbf0ee8d7>, line 3)",
     "output_type": "error",
     "traceback": [
      "\u001b[1;36m  File \u001b[1;32m\"<ipython-input-42-966cbf0ee8d7>\"\u001b[1;36m, line \u001b[1;32m3\u001b[0m\n\u001b[1;33m    deja mfasakh\u001b[0m\n\u001b[1;37m         ^\u001b[0m\n\u001b[1;31mSyntaxError\u001b[0m\u001b[1;31m:\u001b[0m invalid syntax\n"
     ]
    }
   ],
   "source": [
    "exm_dt=exm_dt.drop(labels=\"attempts\",axis=1)\n",
    "\n",
    "deja mfasakh"
   ]
  },
  {
   "cell_type": "code",
   "execution_count": null,
   "id": "8cce6657",
   "metadata": {},
   "outputs": [],
   "source": [
    "conditions = [\n",
    "    (exm_dt['score'] < 10),\n",
    "    (exm_dt['score'] >= 10) ]\n",
    "values = [0,1]\n",
    "exm_dt['Success'] = np.select(conditions, values)"
   ]
  }
 ],
 "metadata": {
  "kernelspec": {
   "display_name": "Python 3",
   "language": "python",
   "name": "python3"
  },
  "language_info": {
   "codemirror_mode": {
    "name": "ipython",
    "version": 3
   },
   "file_extension": ".py",
   "mimetype": "text/x-python",
   "name": "python",
   "nbconvert_exporter": "python",
   "pygments_lexer": "ipython3",
   "version": "3.8.8"
  }
 },
 "nbformat": 4,
 "nbformat_minor": 5
}
