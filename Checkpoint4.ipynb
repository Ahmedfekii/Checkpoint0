{
 "cells": [
  {
   "cell_type": "code",
   "execution_count": 99,
   "id": "9caba057",
   "metadata": {},
   "outputs": [
    {
     "name": "stdout",
     "output_type": "stream",
     "text": [
      "(1, 2, 3)\n"
     ]
    }
   ],
   "source": [
    "class Point3D(object):\n",
    "    def __init__(self,x,y,z):\n",
    "        self.x=x\n",
    "        self.y=y\n",
    "        self.z=z\n",
    "    def __repr__(self):\n",
    "        return \"(%d, %d, %d)\" % (self.x, self.y, self.z)\n",
    "    my_point=(Point3D(1,2,3))\n",
    "    print(my_point)\n",
    "    "
   ]
  },
  {
   "cell_type": "code",
   "execution_count": 98,
   "id": "3f8b8b6d",
   "metadata": {},
   "outputs": [
    {
     "name": "stdout",
     "output_type": "stream",
     "text": [
      "3\n",
      "4\n",
      "12\n",
      "14\n"
     ]
    }
   ],
   "source": [
    "class Rectangle():\n",
    "    def __init__(self,width,length):\n",
    "        self.width=width\n",
    "        self.length=length\n",
    "    def calcarea(self):\n",
    "        return self.length*self.width\n",
    "    def calcperimeter(self):\n",
    "        return  2*(self.length+self.width)\n",
    "width=int(input())\n",
    "length=int(input())\n",
    "new=Rectangle(width,length)\n",
    "area=new.calcarea()\n",
    "perimeter=new.calcperimeter()\n",
    "print(area)\n",
    "print(perimeter)\n",
    "\n",
    "    "
   ]
  },
  {
   "cell_type": "code",
   "execution_count": 108,
   "id": "8a678268",
   "metadata": {},
   "outputs": [
    {
     "name": "stdout",
     "output_type": "stream",
     "text": [
      "2\n",
      "4\n",
      "50.26548245743669\n",
      "25.132741228718345\n"
     ]
    }
   ],
   "source": [
    "import math\n",
    "class Circle():\n",
    "    def __init__(self,O,R):\n",
    "        self.O=O\n",
    "        self.R=R\n",
    "    def calcarea(self):\n",
    "        return self.R**2*math.pi\n",
    "    def calcperimeter(self):\n",
    "        return  2*self.R*math.pi\n",
    "O=int(input())\n",
    "R=int(input())\n",
    "doura=Circle(O,R)\n",
    "area=doura.calcarea()\n",
    "perimeter=doura.calcperimeter()\n",
    "print(area)\n",
    "print(perimeter)\n"
   ]
  },
  {
   "cell_type": "code",
   "execution_count": 6,
   "id": "1b33ae6c",
   "metadata": {},
   "outputs": [
    {
     "name": "stdout",
     "output_type": "stream",
     "text": [
      "Marhbe\n",
      "Enter amount to be deposited: 500\n",
      "Amount Deposited:  500.0\n",
      "Enter amount to withdraw: 600\n",
      "ma3andekch flouss \n",
      "Net Available Balance= 500.0\n"
     ]
    }
   ],
   "source": [
    "class Bank_Account:\n",
    "    def __init__(self):\n",
    "        self.balance=0\n",
    "        print(\"Marhbe\")\n",
    "        \n",
    "    def deposit(self):\n",
    "        amount=float(input(\"Enter amount to be deposited: \"))\n",
    "        self.balance += amount\n",
    "        print(\"Amount Deposited: \",amount)\n",
    "    def withdraw(self):\n",
    "        amount = float(input(\"Enter amount to withdraw: \"))\n",
    "        if self.balance>=amount:\n",
    "            self.balance-=amount\n",
    "            print(\"You withdraw: \",amount)\n",
    "        else:\n",
    "            print(\"ma3andekch flouss \")\n",
    "    def display(self):\n",
    "        print(\"Net Available Balance=\",self.balance)\n",
    "\n",
    "s = Bank_Account()\n",
    "s.deposit()\n",
    "s.withdraw()\n",
    "s.display()"
   ]
  },
  {
   "cell_type": "code",
   "execution_count": null,
   "id": "f4bbebf2",
   "metadata": {},
   "outputs": [],
   "source": []
  },
  {
   "cell_type": "code",
   "execution_count": null,
   "id": "0190129c",
   "metadata": {},
   "outputs": [],
   "source": []
  }
 ],
 "metadata": {
  "kernelspec": {
   "display_name": "Python 3",
   "language": "python",
   "name": "python3"
  },
  "language_info": {
   "codemirror_mode": {
    "name": "ipython",
    "version": 3
   },
   "file_extension": ".py",
   "mimetype": "text/x-python",
   "name": "python",
   "nbconvert_exporter": "python",
   "pygments_lexer": "ipython3",
   "version": "3.8.8"
  }
 },
 "nbformat": 4,
 "nbformat_minor": 5
}
