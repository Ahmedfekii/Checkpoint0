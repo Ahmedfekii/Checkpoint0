{
 "cells": [
  {
   "cell_type": "code",
   "execution_count": 99,
   "id": "9caba057",
   "metadata": {},
   "outputs": [
    {
     "name": "stdout",
     "output_type": "stream",
     "text": [
      "(1, 2, 3)\n"
     ]
    }
   ],
   "source": [
    "class Point3D(object):\n",
    "    def __init__(self,x,y,z):\n",
    "        self.x=x\n",
    "        self.y=y\n",
    "        self.z=z\n",
    "    def __repr__(self):\n",
    "        return \"(%d, %d, %d)\" % (self.x, self.y, self.z)\n",
    "    my_point=(Point3D(1,2,3))\n",
    "    print(my_point)\n",
    "    "
   ]
  },
  {
   "cell_type": "code",
   "execution_count": 98,
   "id": "3f8b8b6d",
   "metadata": {},
   "outputs": [
    {
     "name": "stdout",
     "output_type": "stream",
     "text": [
      "3\n",
      "4\n",
      "12\n",
      "14\n"
     ]
    }
   ],
   "source": [
    "class Rectangle():\n",
    "    def __init__(self,width,length):\n",
    "        self.width=width\n",
    "        self.length=length\n",
    "    def calcarea(self):\n",
    "        return self.length*self.width\n",
    "    def calcperimeter(self):\n",
    "        return  2*(self.length+self.width)\n",
    "width=int(input())\n",
    "length=int(input())\n",
    "new=Rectangle(width,length)\n",
    "area=new.calcarea()\n",
    "perimeter=new.calcperimeter()\n",
    "print(area)\n",
    "print(perimeter)\n",
    "\n",
    "    "
   ]
  },
  {
   "cell_type": "code",
   "execution_count": 55,
   "id": "8a678268",
   "metadata": {},
   "outputs": [
    {
     "name": "stdout",
     "output_type": "stream",
     "text": [
      "4\n",
      "4\n",
      "5\n",
      "2\n",
      "2\n",
      "rp inside circle\n",
      "78.53981633974483\n",
      "31.41592653589793\n"
     ]
    }
   ],
   "source": [
    "import math\n",
    "class Circle():\n",
    "    def __init__(self,xo,yo,R):\n",
    "        self.xo=xo\n",
    "        self.yo=yo\n",
    "        self.R=R\n",
    "    def calcarea(self):\n",
    "        return self.R**2*math.pi\n",
    "    def calcperimeter(self):\n",
    "        return  2*self.R*math.pi\n",
    "    def inside(self,x1,y1):\n",
    "        d=math.sqrt((self.xo-x1)**2+(self.yo-y1)**2)\n",
    "        if self.R>= d:\n",
    "            print(\"rp inside circle\")\n",
    "        else: \n",
    "            print(\"rp outside circle\")\n",
    "xo=int(input())\n",
    "yo=int(input())\n",
    "R=int(input())\n",
    "doura=Circle(xo,yo,R)\n",
    "area=doura.calcarea()\n",
    "perimeter=doura.calcperimeter()\n",
    "x1=int(input())\n",
    "y1=int(input())\n",
    "doura.inside(x1,y1)\n",
    "print(area)\n",
    "print(perimeter)\n",
    "\n",
    "\n",
    "\n"
   ]
  },
  {
   "cell_type": "code",
   "execution_count": 35,
   "id": "1b33ae6c",
   "metadata": {},
   "outputs": [
    {
     "name": "stdout",
     "output_type": "stream",
     "text": [
      "Marhbe\n",
      "Enter amount to be deposited: 200\n",
      "Amount Deposited:  200.0\n",
      "Enter amount to withdraw: 300\n",
      "ma3andekch flouss \n",
      "Net Available Balance= 200.0\n"
     ]
    }
   ],
   "source": [
    "class Bank_Account:\n",
    "    def __init__(self):\n",
    "        self.balance=0\n",
    "        print(\"Marhbe\")\n",
    "        \n",
    "    def deposit(self):\n",
    "        amount=float(input(\"Enter amount to be deposited: \"))\n",
    "        self.balance += amount\n",
    "        print(\"Amount Deposited: \",amount)\n",
    "    def withdraw(self):\n",
    "        amount = float(input(\"Enter amount to withdraw: \"))\n",
    "        if self.balance>=amount:\n",
    "            self.balance-=amount\n",
    "            print(\"You withdraw: \",amount)\n",
    "        else:\n",
    "            print(\"ma3andekch flouss \")\n",
    "    def display(self):\n",
    "        print(\"Net Available Balance=\",self.balance)\n",
    "\n",
    "s = Bank_Account()\n",
    "s.deposit()\n",
    "s.withdraw()\n",
    "s.display()"
   ]
  },
  {
   "cell_type": "code",
   "execution_count": null,
   "id": "f4bbebf2",
   "metadata": {},
   "outputs": [],
   "source": []
  },
  {
   "cell_type": "code",
   "execution_count": null,
   "id": "0190129c",
   "metadata": {},
   "outputs": [],
   "source": []
  }
 ],
 "metadata": {
  "kernelspec": {
   "display_name": "Python 3",
   "language": "python",
   "name": "python3"
  },
  "language_info": {
   "codemirror_mode": {
    "name": "ipython",
    "version": 3
   },
   "file_extension": ".py",
   "mimetype": "text/x-python",
   "name": "python",
   "nbconvert_exporter": "python",
   "pygments_lexer": "ipython3",
   "version": "3.8.8"
  }
 },
 "nbformat": 4,
 "nbformat_minor": 5
}
