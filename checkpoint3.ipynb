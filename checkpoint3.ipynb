{
 "cells": [
  {
   "cell_type": "code",
   "execution_count": 1,
   "id": "da1456f9",
   "metadata": {},
   "outputs": [
    {
     "data": {
      "text/plain": [
       "35"
      ]
     },
     "execution_count": 1,
     "metadata": {},
     "output_type": "execute_result"
    }
   ],
   "source": [
    "My_list=[20,35,19]\n",
    "max(My_list)"
   ]
  },
  {
   "cell_type": "code",
   "execution_count": 30,
   "id": "ef4e88c6",
   "metadata": {},
   "outputs": [
    {
     "name": "stdout",
     "output_type": "stream",
     "text": [
      "(50, 30)\n"
     ]
    }
   ],
   "source": [
    "def calc(x,y):\n",
    "    addition=x+y\n",
    "    substraction=x-y\n",
    "    return addition,substraction\n",
    "result=calc(40,10)\n",
    "print (result)"
   ]
  },
  {
   "cell_type": "code",
   "execution_count": 49,
   "id": "36d68010",
   "metadata": {},
   "outputs": [
    {
     "data": {
      "text/plain": [
       "16"
      ]
     },
     "execution_count": 49,
     "metadata": {},
     "output_type": "execute_result"
    }
   ],
   "source": [
    "def odd(numbers):\n",
    "    odd_numbers = []\n",
    "\n",
    "    for number in numbers:\n",
    "        if number % 2 == 0:\n",
    "            odd_numbers.append(number)\n",
    "\n",
    "    return odd_numbers\n",
    "    def even(numbers):\n",
    "        even_numbers = []\n",
    "\n",
    "        for number in numbers:\n",
    "            if number % 2 == 1:\n",
    "                even_numbers.append(number)\n",
    "\n",
    "        return even_numbers\n",
    "    numbers=[1,2,3,4,5,6,7,8]\n",
    "\n",
    "    def multiplyodd(numbers):\n",
    "        result= 1\n",
    "        for x in numbers:\n",
    "            odd = odd * x\n",
    "        return odd    \n",
    "sum(even(numbers))\n"
   ]
  },
  {
   "cell_type": "code",
   "execution_count": 54,
   "id": "2163ce80",
   "metadata": {},
   "outputs": [
    {
     "name": "stdout",
     "output_type": "stream",
     "text": [
      "green-apple-yellow-banana\n",
      "apple-banana-green-yellow\n"
     ]
    }
   ],
   "source": [
    "items=[n for n in input().split('-')]\n",
    "items.sort()\n",
    "print('-'.join(items))\n"
   ]
  },
  {
   "cell_type": "code",
   "execution_count": 55,
   "id": "9c65aa0d",
   "metadata": {},
   "outputs": [
    {
     "name": "stdout",
     "output_type": "stream",
     "text": [
      ": 100,150,180\n",
      "[18, 22, 24]\n"
     ]
    }
   ],
   "source": [
    "import math\n",
    "\n",
    "numbers = input(\": \")\n",
    "numbers = numbers.split(',')\n",
    "\n",
    "calcul = []\n",
    "for D in numbers:\n",
    "    Q = round(math.sqrt(2 * 50 * int(D) / 30))\n",
    "    calcul.append(Q)\n",
    "\n",
    "print(calcul)"
   ]
  },
  {
   "cell_type": "code",
   "execution_count": null,
   "id": "f8daf880",
   "metadata": {},
   "outputs": [],
   "source": []
  }
 ],
 "metadata": {
  "kernelspec": {
   "display_name": "Python 3",
   "language": "python",
   "name": "python3"
  },
  "language_info": {
   "codemirror_mode": {
    "name": "ipython",
    "version": 3
   },
   "file_extension": ".py",
   "mimetype": "text/x-python",
   "name": "python",
   "nbconvert_exporter": "python",
   "pygments_lexer": "ipython3",
   "version": "3.8.8"
  }
 },
 "nbformat": 4,
 "nbformat_minor": 5
}
