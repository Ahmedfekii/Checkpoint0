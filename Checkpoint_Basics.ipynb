{
 "cells": [
  {
   "cell_type": "code",
   "execution_count": 2,
   "id": "b386ea61",
   "metadata": {},
   "outputs": [
    {
     "name": "stdout",
     "output_type": "stream",
     "text": [
      "feki Ahmed\n"
     ]
    }
   ],
   "source": [
    "fname= \"Ahmed\"\n",
    "lname= \"feki\"\n",
    "print(lname+\" \"+fname)"
   ]
  },
  {
   "cell_type": "code",
   "execution_count": 46,
   "id": "e572faec",
   "metadata": {},
   "outputs": [
    {
     "name": "stdout",
     "output_type": "stream",
     "text": [
      "5\n",
      "615\n"
     ]
    }
   ],
   "source": [
    "a_str=input()\n",
    "resultat=int(a_str)+int((a_str+a_str))+int((a_str+a_str+a_str))\n",
    "print(resultat)\n"
   ]
  },
  {
   "cell_type": "code",
   "execution_count": null,
   "id": "cc32b38d",
   "metadata": {
    "scrolled": true
   },
   "outputs": [],
   "source": [
    "n=input ()\n",
    "a=int(n)\n",
    "m=a%2\n",
    "if m==0:\n",
    "    print(True)\n",
    "else: print(False)"
   ]
  },
  {
   "cell_type": "code",
   "execution_count": 45,
   "id": "2f9afe84",
   "metadata": {},
   "outputs": [
    {
     "name": "stdout",
     "output_type": "stream",
     "text": [
      "2002 2009 2016 2023 2037 2044 2051 2058 2072 2079 2086 2093 2107 2114 2121 2128 2142 2149 2156 2163 2177 2184 2191 2198 2212 2219 2226 2233 2247 2254 2261 2268 2282 2289 2296 2303 2317 2324 2331 2338 2352 2359 2366 2373 2387 2394 2401 2408 2422 2429 2436 2443 2457 2464 2471 2478 2492 2499 2506 2513 2527 2534 2541 2548 2562 2569 2576 2583 2597 2604 2611 2618 2632 2639 2646 2653 2667 2674 2681 2688 2702 2709 2716 2723 2737 2744 2751 2758 2772 2779 2786 2793 2807 2814 2821 2828 2842 2849 2856 2863 2877 2884 2891 2898 2912 2919 2926 2933 2947 2954 2961 2968 2982 2989 2996 3003 3017 3024 3031 3038 3052 3059 3066 3073 3087 3094 3101 3108 3122 3129 3136 3143 3157 3164 3171 3178 3192 3199 "
     ]
    }
   ],
   "source": [
    "for x in range (2000,3201):\n",
    " if (x%7==0) and (x%5!=0):\n",
    "    print(x,end=\" \")"
   ]
  },
  {
   "cell_type": "code",
   "execution_count": 33,
   "id": "37ae0b0f",
   "metadata": {},
   "outputs": [
    {
     "name": "stdout",
     "output_type": "stream",
     "text": [
      "8\n",
      "40320\n"
     ]
    }
   ],
   "source": [
    "b=input()\n",
    "n=int(b)\n",
    "x=1\n",
    "for i in range(1,n+1): \n",
    "    x=x*i\n",
    "print(x)\n"
   ]
  },
  {
   "cell_type": "code",
   "execution_count": 37,
   "id": "3e1a74f3",
   "metadata": {},
   "outputs": [
    {
     "name": "stdout",
     "output_type": "stream",
     "text": [
      "hlota\n"
     ]
    }
   ],
   "source": [
    "def odd(greetings):\n",
    "  result = \"\" \n",
    "  for i in range(len(greetings)):\n",
    "    if i % 2 == 0:\n",
    "      result = result + greetings[i]\n",
    "  return result\n",
    "\n",
    "print(odd('hello team'))"
   ]
  },
  {
   "cell_type": "code",
   "execution_count": 38,
   "id": "ecfef30d",
   "metadata": {},
   "outputs": [
    {
     "name": "stdout",
     "output_type": "stream",
     "text": [
      "800\n",
      "400.0\n"
     ]
    }
   ],
   "source": [
    "price_after_discount=input()\n",
    "price_after_discount=int(price_after_discount)\n",
    "if price_after_discount>=500:\n",
    "    print(price_after_discount*0.5)\n",
    "elif price_after_discount<500 and price_after_discount>200:\n",
    "    print(price_after_discount*0.7)\n",
    "else:\n",
    "    print(price_after_discount*0.9)"
   ]
  },
  {
   "cell_type": "code",
   "execution_count": null,
   "id": "a11485eb",
   "metadata": {},
   "outputs": [],
   "source": []
  },
  {
   "cell_type": "code",
   "execution_count": null,
   "id": "c2b4ea86",
   "metadata": {},
   "outputs": [],
   "source": []
  }
 ],
 "metadata": {
  "kernelspec": {
   "display_name": "Python 3",
   "language": "python",
   "name": "python3"
  }
 },
 "nbformat": 4,
 "nbformat_minor": 5
}
