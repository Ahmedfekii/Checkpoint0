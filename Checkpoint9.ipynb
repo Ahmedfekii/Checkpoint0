{
 "cells": [
  {
   "cell_type": "code",
   "execution_count": 11,
   "id": "a8907dcc",
   "metadata": {},
   "outputs": [
    {
     "data": {
      "text/plain": [
       "967"
      ]
     },
     "execution_count": 11,
     "metadata": {},
     "output_type": "execute_result"
    }
   ],
   "source": [
    "mylist=[14, \"hello\", 967]\n",
    "mylist[2]"
   ]
  },
  {
   "cell_type": "code",
   "execution_count": 14,
   "id": "53397a40",
   "metadata": {},
   "outputs": [],
   "source": [
    "import pandas\n",
    "import numpy"
   ]
  },
  {
   "cell_type": "code",
   "execution_count": 16,
   "id": "e556c8a2",
   "metadata": {},
   "outputs": [
    {
     "name": "stdout",
     "output_type": "stream",
     "text": [
      "python errors\n"
     ]
    }
   ],
   "source": [
    "print(\"python errors\")"
   ]
  },
  {
   "cell_type": "code",
   "execution_count": 20,
   "id": "24773886",
   "metadata": {},
   "outputs": [
    {
     "data": {
      "text/plain": [
       "'python'"
      ]
     },
     "execution_count": 20,
     "metadata": {},
     "output_type": "execute_result"
    }
   ],
   "source": [
    "mydictionnary={True:\"hello\",False:\"bye\", '3':\"python\"}\n",
    "mydictionnary['3']"
   ]
  },
  {
   "cell_type": "code",
   "execution_count": 22,
   "id": "b6767941",
   "metadata": {},
   "outputs": [
    {
     "name": "stdout",
     "output_type": "stream",
     "text": [
      "14\n",
      "15\n",
      "16\n",
      "17\n",
      "18\n",
      "19\n",
      "20\n",
      "21\n",
      "22\n",
      "23\n",
      "24\n",
      "25\n",
      "26\n",
      "27\n",
      "28\n",
      "29\n",
      "30\n",
      "31\n",
      "32\n",
      "33\n",
      "34\n",
      "35\n",
      "36\n",
      "37\n",
      "38\n",
      "39\n",
      "40\n",
      "41\n",
      "42\n",
      "43\n",
      "44\n",
      "45\n",
      "46\n",
      "47\n",
      "48\n",
      "49\n",
      "50\n",
      "51\n",
      "52\n",
      "53\n",
      "54\n",
      "55\n",
      "56\n",
      "57\n",
      "58\n",
      "59\n",
      "60\n",
      "61\n",
      "62\n",
      "63\n",
      "64\n",
      "65\n",
      "66\n",
      "67\n",
      "68\n",
      "69\n",
      "70\n",
      "71\n",
      "72\n",
      "73\n",
      "74\n",
      "75\n",
      "76\n",
      "77\n"
     ]
    }
   ],
   "source": [
    "i=14\n",
    "while i<78:\n",
    "    print(i)\n",
    "    i+=1"
   ]
  },
  {
   "cell_type": "code",
   "execution_count": 23,
   "id": "e5315af9",
   "metadata": {},
   "outputs": [
    {
     "data": {
      "text/plain": [
       "3"
      ]
     },
     "execution_count": 23,
     "metadata": {},
     "output_type": "execute_result"
    }
   ],
   "source": [
    "it=iter([1,2,3])\n",
    "next(it)\n",
    "next(it)\n",
    "next(it)\n"
   ]
  },
  {
   "cell_type": "code",
   "execution_count": 24,
   "id": "faa41dd3",
   "metadata": {},
   "outputs": [
    {
     "data": {
      "text/plain": [
       "30"
      ]
     },
     "execution_count": 24,
     "metadata": {},
     "output_type": "execute_result"
    }
   ],
   "source": [
    "15+15"
   ]
  },
  {
   "cell_type": "code",
   "execution_count": 25,
   "id": "61245a15",
   "metadata": {},
   "outputs": [
    {
     "data": {
      "text/plain": [
       "5"
      ]
     },
     "execution_count": 25,
     "metadata": {},
     "output_type": "execute_result"
    }
   ],
   "source": [
    "int('5')"
   ]
  },
  {
   "cell_type": "code",
   "execution_count": 26,
   "id": "7fe0b916",
   "metadata": {},
   "outputs": [],
   "source": [
    "python=1"
   ]
  },
  {
   "cell_type": "code",
   "execution_count": 27,
   "id": "2248e74f",
   "metadata": {},
   "outputs": [],
   "source": [
    "x=19/1"
   ]
  },
  {
   "cell_type": "code",
   "execution_count": null,
   "id": "b494962d",
   "metadata": {},
   "outputs": [],
   "source": []
  }
 ],
 "metadata": {
  "kernelspec": {
   "display_name": "Python 3",
   "language": "python",
   "name": "python3"
  },
  "language_info": {
   "codemirror_mode": {
    "name": "ipython",
    "version": 3
   },
   "file_extension": ".py",
   "mimetype": "text/x-python",
   "name": "python",
   "nbconvert_exporter": "python",
   "pygments_lexer": "ipython3",
   "version": "3.8.8"
  }
 },
 "nbformat": 4,
 "nbformat_minor": 5
}
