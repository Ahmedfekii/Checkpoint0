{
 "cells": [
  {
   "cell_type": "code",
   "execution_count": 2,
   "id": "1be98045",
   "metadata": {},
   "outputs": [
    {
     "name": "stdout",
     "output_type": "stream",
     "text": [
      "2\n",
      "4\n",
      "3\n",
      "x is not found\n",
      "2\n",
      "4\n",
      "3\n",
      "x is found\n"
     ]
    }
   ],
   "source": [
    "def binary_search(A, l, h, x):\n",
    "    if h >= l:\n",
    "        mid = int(l + (h - l)/2)\n",
    "        print(mid)\n",
    "        if A[mid] == x:\n",
    "            return 'x is found'\n",
    "        elif A[mid] > x:\n",
    "            return binary_search(A, l, mid-1, x)\n",
    "        else:\n",
    "            return binary_search(A, mid+1, h, x)\n",
    "    else:\n",
    "        return 'x is not found'\n",
    "\n",
    "print(binary_search([1,2,3,5,8],0,5,6)) \n",
    "print(binary_search([1,2,3,5,8],0,5,5))  "
   ]
  },
  {
   "cell_type": "code",
   "execution_count": 8,
   "id": "74ded94e",
   "metadata": {},
   "outputs": [
    {
     "name": "stdout",
     "output_type": "stream",
     "text": [
      "125\n",
      "81\n"
     ]
    }
   ],
   "source": [
    "def power(a,b):\n",
    "    if b==1:\n",
    "        return a\n",
    "    elif b==0:\n",
    "        return 1\n",
    "    elif a==0:\n",
    "        return 0\n",
    "    else:\n",
    "        return a*power(a,b-1)\n",
    "print(power(5,3))\n",
    "print(power(3,4))"
   ]
  },
  {
   "cell_type": "code",
   "execution_count": 15,
   "id": "74c1f084",
   "metadata": {},
   "outputs": [
    {
     "name": "stdout",
     "output_type": "stream",
     "text": [
      "[13, 22, 29, 37, 46, 49, 52, 56, 71]\n"
     ]
    }
   ],
   "source": [
    "def BubbleGum(lista):\n",
    "    for number in range(len(lista)-1,0,-1):\n",
    "        for i in range (number):\n",
    "            if lista[i]>lista[i+1]:\n",
    "                temp=lista[i]\n",
    "                lista[i]=lista[i+1]\n",
    "                lista[i+1]=temp\n",
    "    return lista\n",
    "print(BubbleGum([29,13,22,37,52,49,46,71,56]))"
   ]
  },
  {
   "cell_type": "code",
   "execution_count": null,
   "id": "5cf975eb",
   "metadata": {},
   "outputs": [],
   "source": [
    "def mergesort(lista):\n",
    "    if len(lista)>1:\n",
    "        mid=len(lista)//2\n",
    "        \n",
    "        imin=lista[mid:]\n",
    "        \n",
    "        isar=lista[:mid]\n",
    "        \n",
    "        mergesort(isar)\n",
    "        \n",
    "        mergesort(imin)\n",
    "        \n",
    "        L=0                    #L for left\n",
    "        R=0                    #R for right\n",
    "        M=0                    #M for main\n",
    "        \n",
    "        while L<len(isar) and R<len(imin):\n",
    "            if isar[L]<imin[R]:\n",
    "                lista[M]=isar[L]\n",
    "                L+=1\n",
    "            else:\n",
    "                lista[M]=imin[R]\n",
    "                R+=1\n",
    "            M+=1\n",
    "        while L<len(isar):\n",
    "            lista[M]=isar[L]\n",
    "            L+=1\n",
    "            M+=1\n",
    "        while R<len(imin):\n",
    "            lista[M]=imin[R]\n",
    "            R+=1\n",
    "            M+=1\n",
    "\n",
    "           \n",
    "lista=[29,13,22,37,52,49,46,71,56]\n",
    "mergesort(lista)\n",
    "print(lista)"
   ]
  },
  {
   "cell_type": "code",
   "execution_count": 2,
   "id": "cafccc4e",
   "metadata": {},
   "outputs": [],
   "source": [
    "def ta9sima(lista_mte3i,bideya,niheya):\n",
    "    kanté=lista_mte3i[bideya]\n",
    "    low=bideya+1\n",
    "    high=niheya\n",
    "    while True:\n",
    "        while low <= high and lista_mte3i[high]>=kanté:\n",
    "            high=high-1\n",
    "        \n",
    "        while low <= high and lista_mte3i[low]<=kanté:\n",
    "            low=low+1\n",
    "            \n",
    "        if low <= high:\n",
    "            lista_mte3i[low],lista_mte3i[high]=lista_mte3i[high],lista_mte3i[low]\n",
    "        else:\n",
    "            break\n",
    "    \n",
    "    lista_mte3i[bideya],lista_mte3i[high]=lista_mte3i[high],lista_mte3i[bideya]\n",
    "    return high"
   ]
  },
  {
   "cell_type": "code",
   "execution_count": 3,
   "id": "5050a69c",
   "metadata": {},
   "outputs": [
    {
     "name": "stdout",
     "output_type": "stream",
     "text": [
      "[13, 22, 29, 37, 42, 46, 49, 56, 71]\n"
     ]
    }
   ],
   "source": [
    "def quick_sort(lista_mte3i,bideya,niheya):\n",
    "    if bideya >= niheya:\n",
    "        return\n",
    "\n",
    "    p = ta9sima(lista_mte3i,bideya,niheya)\n",
    "    \n",
    "    quick_sort(lista_mte3i, bideya, p-1)\n",
    "    \n",
    "    quick_sort(lista_mte3i, p+1, niheya)\n",
    "    \n",
    "    \n",
    "lista_mte3i = [13, 22, 29, 37, 42, 46, 49, 56, 71]\n",
    "quick_sort(lista_mte3i, 0, len(lista_mte3i) - 1)\n",
    "print(lista_mte3i)"
   ]
  },
  {
   "cell_type": "code",
   "execution_count": null,
   "id": "f8a5c2ec",
   "metadata": {},
   "outputs": [],
   "source": []
  }
 ],
 "metadata": {
  "kernelspec": {
   "display_name": "Python 3",
   "language": "python",
   "name": "python3"
  },
  "language_info": {
   "codemirror_mode": {
    "name": "ipython",
    "version": 3
   },
   "file_extension": ".py",
   "mimetype": "text/x-python",
   "name": "python",
   "nbconvert_exporter": "python",
   "pygments_lexer": "ipython3",
   "version": "3.8.8"
  }
 },
 "nbformat": 4,
 "nbformat_minor": 5
}
